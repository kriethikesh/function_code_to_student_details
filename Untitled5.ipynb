{
  "nbformat": 4,
  "nbformat_minor": 0,
  "metadata": {
    "colab": {
      "provenance": []
    },
    "kernelspec": {
      "name": "python3",
      "display_name": "Python 3"
    },
    "language_info": {
      "name": "python"
    }
  },
  "cells": [
    {
      "cell_type": "code",
      "source": [
        "#funtions"
      ],
      "metadata": {
        "id": "J7Uy0uxjiDM_"
      },
      "execution_count": 2,
      "outputs": []
    },
    {
      "cell_type": "code",
      "source": [
        "def student_data(name,std,fees=0,school=\"sri seshaas\"):\n",
        " if (std>10):\n",
        "   print(\"name=\",name)\n",
        "   print(\"std=\",std)\n",
        "   print(\"fees=\",70000)\n",
        "   print(\"school=\",school)\n",
        " elif (std<=10 and std>=6):\n",
        "   print(\"name=\",name)\n",
        "   print(\"std=\",std)\n",
        "   print(\"fees=\",50000)\n",
        "   print(\"school=\",school)\n",
        " elif (std<6 and std>=1):\n",
        "   print(\"name=\",name)\n",
        "   print(\"std=\",std)\n",
        "   print(\"fees=\",35000)\n",
        "   print(\"school=\",school)\n"
      ],
      "metadata": {
        "id": "1rk1WkJBl_xv"
      },
      "execution_count": 8,
      "outputs": []
    },
    {
      "cell_type": "code",
      "source": [
        "student_data(\"varun\",10,70000)"
      ],
      "metadata": {
        "colab": {
          "base_uri": "https://localhost:8080/"
        },
        "id": "DjWNHHHam2TE",
        "outputId": "bd6439c2-0359-44f9-8a7e-d3e1e53c0604"
      },
      "execution_count": 9,
      "outputs": [
        {
          "output_type": "stream",
          "name": "stdout",
          "text": [
            "name= varun\n",
            "std= 10\n",
            "fees= 50000\n",
            "school= sri seshaas\n"
          ]
        }
      ]
    },
    {
      "cell_type": "code",
      "source": [
        "student_data(\"hema\",5)"
      ],
      "metadata": {
        "colab": {
          "base_uri": "https://localhost:8080/"
        },
        "id": "siD2b-dFnH1T",
        "outputId": "16b33164-0d33-4f0f-89cd-0d41849d6c82"
      },
      "execution_count": 10,
      "outputs": [
        {
          "output_type": "stream",
          "name": "stdout",
          "text": [
            "name= hema\n",
            "std= 5\n",
            "fees= 35000\n",
            "school= sri seshaas\n"
          ]
        }
      ]
    },
    {
      "cell_type": "code",
      "source": [
        "student_data(\"diyha\",8)"
      ],
      "metadata": {
        "colab": {
          "base_uri": "https://localhost:8080/"
        },
        "id": "-wGAEGB8na2r",
        "outputId": "1df5f4b0-73f5-4b46-b980-3c0139c073fb"
      },
      "execution_count": 11,
      "outputs": [
        {
          "output_type": "stream",
          "name": "stdout",
          "text": [
            "name= diyha\n",
            "std= 8\n",
            "fees= 50000\n",
            "school= sri seshaas\n"
          ]
        }
      ]
    }
  ]
}